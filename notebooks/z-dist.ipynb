{
 "cells": [
  {
   "cell_type": "code",
   "execution_count": 1,
   "metadata": {},
   "outputs": [
    {
     "name": "stdout",
     "output_type": "stream",
     "text": [
      "/Users/nguyen/projects/ab-framework\n"
     ]
    }
   ],
   "source": [
    "cd .."
   ]
  },
  {
   "cell_type": "code",
   "execution_count": 2,
   "metadata": {},
   "outputs": [],
   "source": [
    "import scipy.stats as scs\n",
    "import matplotlib.pyplot as plt\n",
    "import numpy as np\n",
    "%matplotlib inline\n",
    "\n",
    "plt.style.use('ggplot')"
   ]
  },
  {
   "cell_type": "code",
   "execution_count": 3,
   "metadata": {},
   "outputs": [],
   "source": [
    "z = scs.norm(0, 1)"
   ]
  },
  {
   "cell_type": "code",
   "execution_count": 4,
   "metadata": {},
   "outputs": [
    {
     "data": {
      "text/plain": [
       "0.8416212335729143"
      ]
     },
     "execution_count": 4,
     "metadata": {},
     "output_type": "execute_result"
    }
   ],
   "source": [
    "z.ppf(0.8)"
   ]
  },
  {
   "cell_type": "code",
   "execution_count": 5,
   "metadata": {},
   "outputs": [
    {
     "data": {
      "text/plain": [
       "1.959963984540054"
      ]
     },
     "execution_count": 5,
     "metadata": {},
     "output_type": "execute_result"
    }
   ],
   "source": [
    "z.ppf(.975)"
   ]
  },
  {
   "cell_type": "code",
   "execution_count": 6,
   "metadata": {},
   "outputs": [],
   "source": [
    "z = scs.norm()"
   ]
  },
  {
   "cell_type": "code",
   "execution_count": 7,
   "metadata": {},
   "outputs": [],
   "source": [
    "def zplot(cdf=0.95, align='center'):\n",
    "    \"\"\"Plots a z distribution with common annotations\n",
    "    \n",
    "    Example:\n",
    "        zplot(0.95)\n",
    "        \n",
    "        zplot(0.95, align='left')\n",
    "    \n",
    "    Parameters:\n",
    "        cdf (float): The area under the standard normal distribution curve. \n",
    "        align (str): The area under the curve can be aligned to the center (default) or to the left.\n",
    "            Supported: 'left' or 'center'\n",
    "        \n",
    "    Returns:\n",
    "        None: A plot of the normal distribution with annotations showing the area under the curve and the boundaries of the area.\n",
    "    \"\"\"\n",
    "    fig = plt.figure(figsize=(12,6))\n",
    "    ax = fig.subplots()\n",
    "    norm = scs.norm()\n",
    "\n",
    "    x = np.linspace(-5, 5, 1000)\n",
    "    y = norm.pdf(x)\n",
    "    \n",
    "    ax.plot(x, y)\n",
    "    \n",
    "\n",
    "    \n",
    "    if align == 'center':\n",
    "    \n",
    "        CIa = norm.ppf(0.5 - cdf / 2)\n",
    "        CIb = norm.ppf(0.5 + cdf / 2)\n",
    "        ax.vlines(CIb, 0, norm.pdf(CIb), color='grey', linestyle='--', label=CIb)\n",
    "        ax.vlines(CIa, 0, norm.pdf(CIa), color='grey', linestyle='--', label=CIa)\n",
    "\n",
    "\n",
    "        fill_x = np.linspace(CIa, CIb, 1000)\n",
    "\n",
    "        ax.fill_between(x, 0, y, color='grey', alpha='0.25', where=(x > CIa) & (x < CIb))\n",
    "        plt.xlabel('z')\n",
    "        plt.ylabel('PDF')\n",
    "        plt.text(CIa, norm.pdf(CIa), \"z = {0:.3f}\".format(CIa), fontsize=12, rotation=90, va=\"bottom\", ha=\"right\")\n",
    "\n",
    "    \n",
    "    elif align == 'left':\n",
    "        CIb = norm.ppf(cdf)\n",
    "        ax.vlines(CIb, 0, norm.pdf(CIb), color='grey', linestyle='--', label=CIb)\n",
    "        fill_x = np.linspace(-5, CIb, 1000)\n",
    "        ax.fill_between(x, 0, y, color='grey', alpha='0.25', where=x < CIb)\n",
    "        \n",
    "    else:\n",
    "        raise ValueError('align must be set to \"center\"(default) or \"left\"')\n",
    "\n",
    "    plt.text(CIb, norm.pdf(CIb), \"z = {0:.3f}\".format(CIb), fontsize=12, rotation=90, va=\"bottom\", ha=\"left\")\n",
    "    plt.text(0, 0.1, \"area = {0:.3f}\".format(cdf), fontsize=12, ha='center')\n",
    "    plt.xlabel('z')\n",
    "    plt.ylabel('PDF')\n",
    "    plt.show()"
   ]
  },
  {
   "cell_type": "code",
   "execution_count": 8,
   "metadata": {},
   "outputs": [
    {
     "data": {
      "image/png": "[encoded data removed]",
      "text/plain": [
       "<matplotlib.figure.Figure at 0x10c68fd68>"
      ]
     },
     "metadata": {},
     "output_type": "display_data"
    }
   ],
   "source": [
    "zplot(0.95)"
   ]
  },
  {
   "cell_type": "code",
   "execution_count": null,
   "metadata": {},
   "outputs": [],
   "source": []
  }
 ],
 "metadata": {
  "kernelspec": {
   "display_name": "Python 3",
   "language": "python",
   "name": "python3"
  },
  "language_info": {
   "codemirror_mode": {
    "name": "ipython",
    "version": 3
   },
   "file_extension": ".py",
   "mimetype": "text/x-python",
   "name": "python",
   "nbconvert_exporter": "python",
   "pygments_lexer": "ipython3",
   "version": "3.6.3"
  }
 },
 "nbformat": 4,
 "nbformat_minor": 2
}
